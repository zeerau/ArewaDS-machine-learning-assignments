{
 "cells": [
  {
   "cell_type": "code",
   "execution_count": 1,
   "metadata": {},
   "outputs": [],
   "source": [
    "import pandas as pd\n",
    "import numpy as np\n",
    "import matplotlib.pyplot as plt\n"
   ]
  },
  {
   "cell_type": "code",
   "execution_count": 2,
   "metadata": {},
   "outputs": [],
   "source": [
    "# read the csv\n",
    "df = pd.read_csv(\"./metadata.csv\")\n"
   ]
  },
  {
   "cell_type": "code",
   "execution_count": 3,
   "metadata": {},
   "outputs": [
    {
     "data": {
      "text/plain": [
       "1000"
      ]
     },
     "execution_count": 3,
     "metadata": {},
     "output_type": "execute_result"
    }
   ],
   "source": [
    "df.shape[0]\n"
   ]
  },
  {
   "cell_type": "code",
   "execution_count": 4,
   "metadata": {},
   "outputs": [
    {
     "data": {
      "text/html": [
       "<div>\n",
       "<style scoped>\n",
       "    .dataframe tbody tr th:only-of-type {\n",
       "        vertical-align: middle;\n",
       "    }\n",
       "\n",
       "    .dataframe tbody tr th {\n",
       "        vertical-align: top;\n",
       "    }\n",
       "\n",
       "    .dataframe thead th {\n",
       "        text-align: right;\n",
       "    }\n",
       "</style>\n",
       "<table border=\"1\" class=\"dataframe\">\n",
       "  <thead>\n",
       "    <tr style=\"text-align: right;\">\n",
       "      <th></th>\n",
       "      <th>cord_uid</th>\n",
       "      <th>sha</th>\n",
       "      <th>source_x</th>\n",
       "      <th>title</th>\n",
       "      <th>doi</th>\n",
       "      <th>pmcid</th>\n",
       "      <th>pubmed_id</th>\n",
       "      <th>license</th>\n",
       "      <th>abstract</th>\n",
       "      <th>publish_time</th>\n",
       "      <th>authors</th>\n",
       "      <th>journal</th>\n",
       "      <th>mag_id</th>\n",
       "      <th>who_covidence_id</th>\n",
       "      <th>arxiv_id</th>\n",
       "      <th>pdf_json_files</th>\n",
       "      <th>pmc_json_files</th>\n",
       "      <th>url</th>\n",
       "      <th>s2_id</th>\n",
       "    </tr>\n",
       "  </thead>\n",
       "  <tbody>\n",
       "    <tr>\n",
       "      <th>0</th>\n",
       "      <td>4429oz9s</td>\n",
       "      <td>NaN</td>\n",
       "      <td>Medline</td>\n",
       "      <td>Will pay for performance improve quality of ca...</td>\n",
       "      <td>10.1056/nejme1212133</td>\n",
       "      <td>NaN</td>\n",
       "      <td>23134388.0</td>\n",
       "      <td>unk</td>\n",
       "      <td>NaN</td>\n",
       "      <td>2012</td>\n",
       "      <td>Epstein, Arnold M</td>\n",
       "      <td>The New England journal of medicine</td>\n",
       "      <td>NaN</td>\n",
       "      <td>NaN</td>\n",
       "      <td>NaN</td>\n",
       "      <td>NaN</td>\n",
       "      <td>NaN</td>\n",
       "      <td>https://doi.org/10.1056/nejme1212133; https://...</td>\n",
       "      <td>10014458.0</td>\n",
       "    </tr>\n",
       "    <tr>\n",
       "      <th>1</th>\n",
       "      <td>sjdy79ok</td>\n",
       "      <td>NaN</td>\n",
       "      <td>Medline; WHO</td>\n",
       "      <td>Impact of Sitagliptin in Non-Diabetic Covid-19...</td>\n",
       "      <td>10.2174/1874467214666210902115650</td>\n",
       "      <td>NaN</td>\n",
       "      <td>34477540.0</td>\n",
       "      <td>unk</td>\n",
       "      <td>OBJECTIVE In Coronavirus disease 2019 (Covid-1...</td>\n",
       "      <td>2021-09-01</td>\n",
       "      <td>Al-Kuraishy, Hayder M; Al-Gareeb, Ali I; Qusty...</td>\n",
       "      <td>Current molecular pharmacology</td>\n",
       "      <td>NaN</td>\n",
       "      <td>NaN</td>\n",
       "      <td>NaN</td>\n",
       "      <td>NaN</td>\n",
       "      <td>NaN</td>\n",
       "      <td>https://doi.org/10.2174/1874467214666210902115...</td>\n",
       "      <td>237399283.0</td>\n",
       "    </tr>\n",
       "    <tr>\n",
       "      <th>2</th>\n",
       "      <td>qa5n3xpi</td>\n",
       "      <td>NaN</td>\n",
       "      <td>WHO</td>\n",
       "      <td>Utilizing Health Behavior Change and Technolog...</td>\n",
       "      <td>NaN</td>\n",
       "      <td>NaN</td>\n",
       "      <td>NaN</td>\n",
       "      <td>unk</td>\n",
       "      <td>BACKGROUND: To combat the global COVID-19 pand...</td>\n",
       "      <td>2021</td>\n",
       "      <td>Tomczyk, Samuel; Barth, Simon; Schmidt, Silke;...</td>\n",
       "      <td>J Med Internet Res</td>\n",
       "      <td>NaN</td>\n",
       "      <td>#covidwho-1259297</td>\n",
       "      <td>NaN</td>\n",
       "      <td>NaN</td>\n",
       "      <td>NaN</td>\n",
       "      <td>NaN</td>\n",
       "      <td>233351148.0</td>\n",
       "    </tr>\n",
       "    <tr>\n",
       "      <th>3</th>\n",
       "      <td>jasf7agm</td>\n",
       "      <td>4d4a64f98aac069dd375c8a82d84808fcd7493d8</td>\n",
       "      <td>Medline; PMC</td>\n",
       "      <td>Tiotropium bromide as adjunct therapy in child...</td>\n",
       "      <td>10.1186/s13223-021-00632-4</td>\n",
       "      <td>PMC8666101</td>\n",
       "      <td>34895321.0</td>\n",
       "      <td>cc-by</td>\n",
       "      <td>BACKGROUND: The Global Initiative for Asthma h...</td>\n",
       "      <td>2021-12-12</td>\n",
       "      <td>Ridha, Zainab; Bédard, Marc-Antoine; Smyrnova,...</td>\n",
       "      <td>Allergy Asthma Clin Immunol</td>\n",
       "      <td>NaN</td>\n",
       "      <td>NaN</td>\n",
       "      <td>NaN</td>\n",
       "      <td>document_parses/pdf_json/4d4a64f98aac069dd375c...</td>\n",
       "      <td>document_parses/pmc_json/PMC8666101.xml.json</td>\n",
       "      <td>https://doi.org/10.1186/s13223-021-00632-4; ht...</td>\n",
       "      <td>245118970.0</td>\n",
       "    </tr>\n",
       "    <tr>\n",
       "      <th>4</th>\n",
       "      <td>dagq84tr</td>\n",
       "      <td>464b915e6d545b37d65ac58cecf42512b11a92e2</td>\n",
       "      <td>Medline; PMC; WHO</td>\n",
       "      <td>Anti-inflammatory adipokines: chemerin, vaspin...</td>\n",
       "      <td>10.1038/s41598-021-00928-w</td>\n",
       "      <td>PMC8563971</td>\n",
       "      <td>34728695.0</td>\n",
       "      <td>cc-by</td>\n",
       "      <td>Coronavirus disease 2019 (COVID-19) is associa...</td>\n",
       "      <td>2021-11-02</td>\n",
       "      <td>Kukla, Michał; Menżyk, Tomasz; Dembiński, Marc...</td>\n",
       "      <td>Sci Rep</td>\n",
       "      <td>NaN</td>\n",
       "      <td>NaN</td>\n",
       "      <td>NaN</td>\n",
       "      <td>document_parses/pdf_json/464b915e6d545b37d65ac...</td>\n",
       "      <td>document_parses/pmc_json/PMC8563971.xml.json</td>\n",
       "      <td>https://doi.org/10.1038/s41598-021-00928-w; ht...</td>\n",
       "      <td>241112264.0</td>\n",
       "    </tr>\n",
       "    <tr>\n",
       "      <th>...</th>\n",
       "      <td>...</td>\n",
       "      <td>...</td>\n",
       "      <td>...</td>\n",
       "      <td>...</td>\n",
       "      <td>...</td>\n",
       "      <td>...</td>\n",
       "      <td>...</td>\n",
       "      <td>...</td>\n",
       "      <td>...</td>\n",
       "      <td>...</td>\n",
       "      <td>...</td>\n",
       "      <td>...</td>\n",
       "      <td>...</td>\n",
       "      <td>...</td>\n",
       "      <td>...</td>\n",
       "      <td>...</td>\n",
       "      <td>...</td>\n",
       "      <td>...</td>\n",
       "      <td>...</td>\n",
       "    </tr>\n",
       "    <tr>\n",
       "      <th>995</th>\n",
       "      <td>h4rb9nv7</td>\n",
       "      <td>NaN</td>\n",
       "      <td>Medline; WHO</td>\n",
       "      <td>Transparency of COVID-19 vaccine trials: decis...</td>\n",
       "      <td>10.1136/bmjebm-2021-111735</td>\n",
       "      <td>NaN</td>\n",
       "      <td>34373256.0</td>\n",
       "      <td>unk</td>\n",
       "      <td>NaN</td>\n",
       "      <td>2021-08-09</td>\n",
       "      <td>Tanveer, Sarah; Rowhani-Farid, Anisa; Hong, Ky...</td>\n",
       "      <td>BMJ evidence-based medicine</td>\n",
       "      <td>NaN</td>\n",
       "      <td>NaN</td>\n",
       "      <td>NaN</td>\n",
       "      <td>NaN</td>\n",
       "      <td>NaN</td>\n",
       "      <td>https://doi.org/10.1136/bmjebm-2021-111735; ht...</td>\n",
       "      <td>236962324.0</td>\n",
       "    </tr>\n",
       "    <tr>\n",
       "      <th>996</th>\n",
       "      <td>gex3b2q1</td>\n",
       "      <td>NaN</td>\n",
       "      <td>Medline</td>\n",
       "      <td>NIH move to ax bat coronavirus grant draws fire.</td>\n",
       "      <td>10.1126/science.368.6491.561</td>\n",
       "      <td>NaN</td>\n",
       "      <td>32381695.0</td>\n",
       "      <td>unk</td>\n",
       "      <td>NaN</td>\n",
       "      <td>2020-05-08</td>\n",
       "      <td>Wadman, Meredith; Cohen, Jon</td>\n",
       "      <td>Science</td>\n",
       "      <td>NaN</td>\n",
       "      <td>NaN</td>\n",
       "      <td>NaN</td>\n",
       "      <td>NaN</td>\n",
       "      <td>NaN</td>\n",
       "      <td>https://doi.org/10.1126/science.368.6491.561; ...</td>\n",
       "      <td>218556464.0</td>\n",
       "    </tr>\n",
       "    <tr>\n",
       "      <th>997</th>\n",
       "      <td>qg4x8pie</td>\n",
       "      <td>NaN</td>\n",
       "      <td>Medline</td>\n",
       "      <td>Telehealth Opportunities in the COVID-19 Pande...</td>\n",
       "      <td>10.1089/tmj.2020.0386</td>\n",
       "      <td>NaN</td>\n",
       "      <td>33264071.0</td>\n",
       "      <td>unk</td>\n",
       "      <td>The objective of this communication is to offe...</td>\n",
       "      <td>2020-12-01</td>\n",
       "      <td>Amorim, Paula; Brito, Dulce; Castelo-Branco, M...</td>\n",
       "      <td>Telemedicine journal and e-health : the offici...</td>\n",
       "      <td>NaN</td>\n",
       "      <td>NaN</td>\n",
       "      <td>NaN</td>\n",
       "      <td>NaN</td>\n",
       "      <td>NaN</td>\n",
       "      <td>https://doi.org/10.1089/tmj.2020.0386; https:/...</td>\n",
       "      <td>227259511.0</td>\n",
       "    </tr>\n",
       "    <tr>\n",
       "      <th>998</th>\n",
       "      <td>aghf4p8h</td>\n",
       "      <td>NaN</td>\n",
       "      <td>WHO</td>\n",
       "      <td>COVID-19 in Correctional and Detention Facilit...</td>\n",
       "      <td>NaN</td>\n",
       "      <td>NaN</td>\n",
       "      <td>NaN</td>\n",
       "      <td>unk</td>\n",
       "      <td>An estimated 2.1 million U.S. adults are house...</td>\n",
       "      <td>2020</td>\n",
       "      <td>Wallace, Megan; Hagan, Liesl; Curran, Kathryn ...</td>\n",
       "      <td>MMWR Morb Mortal Wkly Rep</td>\n",
       "      <td>NaN</td>\n",
       "      <td>#196896</td>\n",
       "      <td>NaN</td>\n",
       "      <td>NaN</td>\n",
       "      <td>NaN</td>\n",
       "      <td>NaN</td>\n",
       "      <td>218648200.0</td>\n",
       "    </tr>\n",
       "    <tr>\n",
       "      <th>999</th>\n",
       "      <td>0ig6uopv</td>\n",
       "      <td>NaN</td>\n",
       "      <td>WHO</td>\n",
       "      <td>QAnon—Religious Roots, Religious Responses</td>\n",
       "      <td>10.1177/08969205211063565</td>\n",
       "      <td>NaN</td>\n",
       "      <td>NaN</td>\n",
       "      <td>unk</td>\n",
       "      <td>Conspiracy theories are not new to religion, n...</td>\n",
       "      <td>2021</td>\n",
       "      <td>MacMillen, Sarah Louise Rush Timothy</td>\n",
       "      <td>Critical Sociology</td>\n",
       "      <td>NaN</td>\n",
       "      <td>#covidwho-1582670</td>\n",
       "      <td>NaN</td>\n",
       "      <td>NaN</td>\n",
       "      <td>NaN</td>\n",
       "      <td>https://doi.org/10.1177/08969205211063565</td>\n",
       "      <td>245518905.0</td>\n",
       "    </tr>\n",
       "  </tbody>\n",
       "</table>\n",
       "<p>1000 rows × 19 columns</p>\n",
       "</div>"
      ],
      "text/plain": [
       "     cord_uid                                       sha           source_x  \\\n",
       "0    4429oz9s                                       NaN            Medline   \n",
       "1    sjdy79ok                                       NaN       Medline; WHO   \n",
       "2    qa5n3xpi                                       NaN                WHO   \n",
       "3    jasf7agm  4d4a64f98aac069dd375c8a82d84808fcd7493d8       Medline; PMC   \n",
       "4    dagq84tr  464b915e6d545b37d65ac58cecf42512b11a92e2  Medline; PMC; WHO   \n",
       "..        ...                                       ...                ...   \n",
       "995  h4rb9nv7                                       NaN       Medline; WHO   \n",
       "996  gex3b2q1                                       NaN            Medline   \n",
       "997  qg4x8pie                                       NaN            Medline   \n",
       "998  aghf4p8h                                       NaN                WHO   \n",
       "999  0ig6uopv                                       NaN                WHO   \n",
       "\n",
       "                                                 title  \\\n",
       "0    Will pay for performance improve quality of ca...   \n",
       "1    Impact of Sitagliptin in Non-Diabetic Covid-19...   \n",
       "2    Utilizing Health Behavior Change and Technolog...   \n",
       "3    Tiotropium bromide as adjunct therapy in child...   \n",
       "4    Anti-inflammatory adipokines: chemerin, vaspin...   \n",
       "..                                                 ...   \n",
       "995  Transparency of COVID-19 vaccine trials: decis...   \n",
       "996   NIH move to ax bat coronavirus grant draws fire.   \n",
       "997  Telehealth Opportunities in the COVID-19 Pande...   \n",
       "998  COVID-19 in Correctional and Detention Facilit...   \n",
       "999         QAnon—Religious Roots, Religious Responses   \n",
       "\n",
       "                                   doi       pmcid   pubmed_id license  \\\n",
       "0                 10.1056/nejme1212133         NaN  23134388.0     unk   \n",
       "1    10.2174/1874467214666210902115650         NaN  34477540.0     unk   \n",
       "2                                  NaN         NaN         NaN     unk   \n",
       "3           10.1186/s13223-021-00632-4  PMC8666101  34895321.0   cc-by   \n",
       "4           10.1038/s41598-021-00928-w  PMC8563971  34728695.0   cc-by   \n",
       "..                                 ...         ...         ...     ...   \n",
       "995         10.1136/bmjebm-2021-111735         NaN  34373256.0     unk   \n",
       "996       10.1126/science.368.6491.561         NaN  32381695.0     unk   \n",
       "997              10.1089/tmj.2020.0386         NaN  33264071.0     unk   \n",
       "998                                NaN         NaN         NaN     unk   \n",
       "999          10.1177/08969205211063565         NaN         NaN     unk   \n",
       "\n",
       "                                              abstract publish_time  \\\n",
       "0                                                  NaN         2012   \n",
       "1    OBJECTIVE In Coronavirus disease 2019 (Covid-1...   2021-09-01   \n",
       "2    BACKGROUND: To combat the global COVID-19 pand...         2021   \n",
       "3    BACKGROUND: The Global Initiative for Asthma h...   2021-12-12   \n",
       "4    Coronavirus disease 2019 (COVID-19) is associa...   2021-11-02   \n",
       "..                                                 ...          ...   \n",
       "995                                                NaN   2021-08-09   \n",
       "996                                                NaN   2020-05-08   \n",
       "997  The objective of this communication is to offe...   2020-12-01   \n",
       "998  An estimated 2.1 million U.S. adults are house...         2020   \n",
       "999  Conspiracy theories are not new to religion, n...         2021   \n",
       "\n",
       "                                               authors  \\\n",
       "0                                    Epstein, Arnold M   \n",
       "1    Al-Kuraishy, Hayder M; Al-Gareeb, Ali I; Qusty...   \n",
       "2    Tomczyk, Samuel; Barth, Simon; Schmidt, Silke;...   \n",
       "3    Ridha, Zainab; Bédard, Marc-Antoine; Smyrnova,...   \n",
       "4    Kukla, Michał; Menżyk, Tomasz; Dembiński, Marc...   \n",
       "..                                                 ...   \n",
       "995  Tanveer, Sarah; Rowhani-Farid, Anisa; Hong, Ky...   \n",
       "996                       Wadman, Meredith; Cohen, Jon   \n",
       "997  Amorim, Paula; Brito, Dulce; Castelo-Branco, M...   \n",
       "998  Wallace, Megan; Hagan, Liesl; Curran, Kathryn ...   \n",
       "999               MacMillen, Sarah Louise Rush Timothy   \n",
       "\n",
       "                                               journal  mag_id  \\\n",
       "0                  The New England journal of medicine     NaN   \n",
       "1                       Current molecular pharmacology     NaN   \n",
       "2                                   J Med Internet Res     NaN   \n",
       "3                          Allergy Asthma Clin Immunol     NaN   \n",
       "4                                              Sci Rep     NaN   \n",
       "..                                                 ...     ...   \n",
       "995                        BMJ evidence-based medicine     NaN   \n",
       "996                                            Science     NaN   \n",
       "997  Telemedicine journal and e-health : the offici...     NaN   \n",
       "998                          MMWR Morb Mortal Wkly Rep     NaN   \n",
       "999                                 Critical Sociology     NaN   \n",
       "\n",
       "      who_covidence_id  arxiv_id  \\\n",
       "0                  NaN       NaN   \n",
       "1                  NaN       NaN   \n",
       "2    #covidwho-1259297       NaN   \n",
       "3                  NaN       NaN   \n",
       "4                  NaN       NaN   \n",
       "..                 ...       ...   \n",
       "995                NaN       NaN   \n",
       "996                NaN       NaN   \n",
       "997                NaN       NaN   \n",
       "998            #196896       NaN   \n",
       "999  #covidwho-1582670       NaN   \n",
       "\n",
       "                                        pdf_json_files  \\\n",
       "0                                                  NaN   \n",
       "1                                                  NaN   \n",
       "2                                                  NaN   \n",
       "3    document_parses/pdf_json/4d4a64f98aac069dd375c...   \n",
       "4    document_parses/pdf_json/464b915e6d545b37d65ac...   \n",
       "..                                                 ...   \n",
       "995                                                NaN   \n",
       "996                                                NaN   \n",
       "997                                                NaN   \n",
       "998                                                NaN   \n",
       "999                                                NaN   \n",
       "\n",
       "                                   pmc_json_files  \\\n",
       "0                                             NaN   \n",
       "1                                             NaN   \n",
       "2                                             NaN   \n",
       "3    document_parses/pmc_json/PMC8666101.xml.json   \n",
       "4    document_parses/pmc_json/PMC8563971.xml.json   \n",
       "..                                            ...   \n",
       "995                                           NaN   \n",
       "996                                           NaN   \n",
       "997                                           NaN   \n",
       "998                                           NaN   \n",
       "999                                           NaN   \n",
       "\n",
       "                                                   url        s2_id  \n",
       "0    https://doi.org/10.1056/nejme1212133; https://...   10014458.0  \n",
       "1    https://doi.org/10.2174/1874467214666210902115...  237399283.0  \n",
       "2                                                  NaN  233351148.0  \n",
       "3    https://doi.org/10.1186/s13223-021-00632-4; ht...  245118970.0  \n",
       "4    https://doi.org/10.1038/s41598-021-00928-w; ht...  241112264.0  \n",
       "..                                                 ...          ...  \n",
       "995  https://doi.org/10.1136/bmjebm-2021-111735; ht...  236962324.0  \n",
       "996  https://doi.org/10.1126/science.368.6491.561; ...  218556464.0  \n",
       "997  https://doi.org/10.1089/tmj.2020.0386; https:/...  227259511.0  \n",
       "998                                                NaN  218648200.0  \n",
       "999          https://doi.org/10.1177/08969205211063565  245518905.0  \n",
       "\n",
       "[1000 rows x 19 columns]"
      ]
     },
     "execution_count": 4,
     "metadata": {},
     "output_type": "execute_result"
    }
   ],
   "source": [
    "df"
   ]
  },
  {
   "cell_type": "code",
   "execution_count": 5,
   "metadata": {},
   "outputs": [
    {
     "data": {
      "image/png": "[encoded data removed]",
      "text/plain": [
       "<Figure size 432x288 with 1 Axes>"
      ]
     },
     "metadata": {
      "needs_background": "light"
     },
     "output_type": "display_data"
    }
   ],
   "source": [
    "df['publish_time'] = pd.to_datetime(df['publish_time'])\n",
    "df['publish_time'].hist()\n",
    "plt.show()"
   ]
  },
  {
   "cell_type": "code",
   "execution_count": 6,
   "metadata": {},
   "outputs": [
    {
     "name": "stdout",
     "output_type": "stream",
     "text": [
      " + Processing medication: hydroxychloroquine\n",
      " + Processing medication: chloroquine\n",
      " + Processing medication: tocilizumab\n",
      " + Processing medication: remdesivir\n",
      " + Processing medication: azithromycin\n",
      " + Processing medication: lopinavir\n",
      " + Processing medication: ritonavir\n",
      " + Processing medication: dexamethasone\n",
      " + Processing medication: heparin\n",
      " + Processing medication: favipiravir\n",
      " + Processing medication: methylprednisolone\n",
      " + Processing diagnosis: covid\n",
      " + Processing diagnosis: sars\n",
      " + Processing diagnosis: pneumonia\n",
      " + Processing diagnosis: infection\n",
      " + Processing diagnosis: diabetes\n",
      " + Processing diagnosis: coronavirus\n",
      " + Processing diagnosis: death\n"
     ]
    }
   ],
   "source": [
    "medications = [\n",
    "    'hydroxychloroquine', 'chloroquine', 'tocilizumab', 'remdesivir', 'azithromycin', \n",
    "    'lopinavir', 'ritonavir', 'dexamethasone', 'heparin', 'favipiravir', 'methylprednisolone']\n",
    "diagnosis = [\n",
    "    'covid','sars','pneumonia','infection','diabetes','coronavirus','death'\n",
    "]\n",
    "\n",
    "for m in medications:\n",
    "    print(f\" + Processing medication: {m}\")\n",
    "    df[m] = df['abstract'].apply(lambda x: str(x).lower().count(' '+m))\n",
    "    \n",
    "for m in diagnosis:\n",
    "    print(f\" + Processing diagnosis: {m}\")\n",
    "    df[m] = df['abstract'].apply(lambda x: str(x).lower().count(' '+m))"
   ]
  },
  {
   "cell_type": "code",
   "execution_count": 7,
   "metadata": {},
   "outputs": [
    {
     "data": {
      "text/html": [
       "<div>\n",
       "<style scoped>\n",
       "    .dataframe tbody tr th:only-of-type {\n",
       "        vertical-align: middle;\n",
       "    }\n",
       "\n",
       "    .dataframe tbody tr th {\n",
       "        vertical-align: top;\n",
       "    }\n",
       "\n",
       "    .dataframe thead th {\n",
       "        text-align: right;\n",
       "    }\n",
       "</style>\n",
       "<table border=\"1\" class=\"dataframe\">\n",
       "  <thead>\n",
       "    <tr style=\"text-align: right;\">\n",
       "      <th></th>\n",
       "      <th>Name</th>\n",
       "      <th>Count</th>\n",
       "    </tr>\n",
       "  </thead>\n",
       "  <tbody>\n",
       "    <tr>\n",
       "      <th>3</th>\n",
       "      <td>remdesivir</td>\n",
       "      <td>12</td>\n",
       "    </tr>\n",
       "    <tr>\n",
       "      <th>7</th>\n",
       "      <td>dexamethasone</td>\n",
       "      <td>12</td>\n",
       "    </tr>\n",
       "    <tr>\n",
       "      <th>0</th>\n",
       "      <td>hydroxychloroquine</td>\n",
       "      <td>7</td>\n",
       "    </tr>\n",
       "    <tr>\n",
       "      <th>4</th>\n",
       "      <td>azithromycin</td>\n",
       "      <td>6</td>\n",
       "    </tr>\n",
       "    <tr>\n",
       "      <th>1</th>\n",
       "      <td>chloroquine</td>\n",
       "      <td>3</td>\n",
       "    </tr>\n",
       "    <tr>\n",
       "      <th>2</th>\n",
       "      <td>tocilizumab</td>\n",
       "      <td>2</td>\n",
       "    </tr>\n",
       "    <tr>\n",
       "      <th>5</th>\n",
       "      <td>lopinavir</td>\n",
       "      <td>1</td>\n",
       "    </tr>\n",
       "    <tr>\n",
       "      <th>8</th>\n",
       "      <td>heparin</td>\n",
       "      <td>1</td>\n",
       "    </tr>\n",
       "    <tr>\n",
       "      <th>9</th>\n",
       "      <td>favipiravir</td>\n",
       "      <td>1</td>\n",
       "    </tr>\n",
       "    <tr>\n",
       "      <th>6</th>\n",
       "      <td>ritonavir</td>\n",
       "      <td>0</td>\n",
       "    </tr>\n",
       "    <tr>\n",
       "      <th>10</th>\n",
       "      <td>methylprednisolone</td>\n",
       "      <td>0</td>\n",
       "    </tr>\n",
       "  </tbody>\n",
       "</table>\n",
       "</div>"
      ],
      "text/plain": [
       "                  Name  Count\n",
       "3           remdesivir     12\n",
       "7        dexamethasone     12\n",
       "0   hydroxychloroquine      7\n",
       "4         azithromycin      6\n",
       "1          chloroquine      3\n",
       "2          tocilizumab      2\n",
       "5            lopinavir      1\n",
       "8              heparin      1\n",
       "9          favipiravir      1\n",
       "6            ritonavir      0\n",
       "10  methylprednisolone      0"
      ]
     },
     "execution_count": 7,
     "metadata": {},
     "output_type": "execute_result"
    }
   ],
   "source": [
    "dfm = df[medications]\n",
    "dfm = dfm.sum().reset_index().rename(columns={ 'index' : 'Name', 0 : 'Count'})\n",
    "dfm.sort_values('Count',ascending=False)\n"
   ]
  },
  {
   "cell_type": "code",
   "execution_count": 8,
   "metadata": {},
   "outputs": [
    {
     "data": {
      "image/png": "[encoded data removed]",
      "text/plain": [
       "<Figure size 432x288 with 1 Axes>"
      ]
     },
     "metadata": {
      "needs_background": "light"
     },
     "output_type": "display_data"
    }
   ],
   "source": [
    "dfm.set_index('Name').plot(kind='bar')\n",
    "plt.show()\n"
   ]
  },
  {
   "cell_type": "code",
   "execution_count": 9,
   "metadata": {},
   "outputs": [
    {
     "data": {
      "text/html": [
       "<div>\n",
       "<style scoped>\n",
       "    .dataframe tbody tr th:only-of-type {\n",
       "        vertical-align: middle;\n",
       "    }\n",
       "\n",
       "    .dataframe tbody tr th {\n",
       "        vertical-align: top;\n",
       "    }\n",
       "\n",
       "    .dataframe thead th {\n",
       "        text-align: right;\n",
       "    }\n",
       "</style>\n",
       "<table border=\"1\" class=\"dataframe\">\n",
       "  <thead>\n",
       "    <tr style=\"text-align: right;\">\n",
       "      <th></th>\n",
       "      <th></th>\n",
       "      <th>hydroxychloroquine</th>\n",
       "      <th>chloroquine</th>\n",
       "      <th>tocilizumab</th>\n",
       "      <th>remdesivir</th>\n",
       "      <th>azithromycin</th>\n",
       "      <th>lopinavir</th>\n",
       "      <th>ritonavir</th>\n",
       "      <th>dexamethasone</th>\n",
       "      <th>heparin</th>\n",
       "      <th>favipiravir</th>\n",
       "      <th>methylprednisolone</th>\n",
       "    </tr>\n",
       "    <tr>\n",
       "      <th>publish_time</th>\n",
       "      <th>publish_time</th>\n",
       "      <th></th>\n",
       "      <th></th>\n",
       "      <th></th>\n",
       "      <th></th>\n",
       "      <th></th>\n",
       "      <th></th>\n",
       "      <th></th>\n",
       "      <th></th>\n",
       "      <th></th>\n",
       "      <th></th>\n",
       "      <th></th>\n",
       "    </tr>\n",
       "  </thead>\n",
       "  <tbody>\n",
       "    <tr>\n",
       "      <th rowspan=\"12\" valign=\"top\">2020</th>\n",
       "      <th>1</th>\n",
       "      <td>1</td>\n",
       "      <td>0</td>\n",
       "      <td>0</td>\n",
       "      <td>0</td>\n",
       "      <td>0</td>\n",
       "      <td>0</td>\n",
       "      <td>0</td>\n",
       "      <td>0</td>\n",
       "      <td>0</td>\n",
       "      <td>0</td>\n",
       "      <td>0</td>\n",
       "    </tr>\n",
       "    <tr>\n",
       "      <th>2</th>\n",
       "      <td>0</td>\n",
       "      <td>0</td>\n",
       "      <td>0</td>\n",
       "      <td>0</td>\n",
       "      <td>0</td>\n",
       "      <td>0</td>\n",
       "      <td>0</td>\n",
       "      <td>0</td>\n",
       "      <td>0</td>\n",
       "      <td>0</td>\n",
       "      <td>0</td>\n",
       "    </tr>\n",
       "    <tr>\n",
       "      <th>3</th>\n",
       "      <td>0</td>\n",
       "      <td>0</td>\n",
       "      <td>0</td>\n",
       "      <td>0</td>\n",
       "      <td>0</td>\n",
       "      <td>0</td>\n",
       "      <td>0</td>\n",
       "      <td>0</td>\n",
       "      <td>0</td>\n",
       "      <td>0</td>\n",
       "      <td>0</td>\n",
       "    </tr>\n",
       "    <tr>\n",
       "      <th>4</th>\n",
       "      <td>0</td>\n",
       "      <td>0</td>\n",
       "      <td>0</td>\n",
       "      <td>0</td>\n",
       "      <td>0</td>\n",
       "      <td>0</td>\n",
       "      <td>0</td>\n",
       "      <td>0</td>\n",
       "      <td>1</td>\n",
       "      <td>0</td>\n",
       "      <td>0</td>\n",
       "    </tr>\n",
       "    <tr>\n",
       "      <th>5</th>\n",
       "      <td>0</td>\n",
       "      <td>0</td>\n",
       "      <td>0</td>\n",
       "      <td>0</td>\n",
       "      <td>0</td>\n",
       "      <td>0</td>\n",
       "      <td>0</td>\n",
       "      <td>0</td>\n",
       "      <td>0</td>\n",
       "      <td>0</td>\n",
       "      <td>0</td>\n",
       "    </tr>\n",
       "    <tr>\n",
       "      <th>6</th>\n",
       "      <td>0</td>\n",
       "      <td>0</td>\n",
       "      <td>0</td>\n",
       "      <td>9</td>\n",
       "      <td>0</td>\n",
       "      <td>0</td>\n",
       "      <td>0</td>\n",
       "      <td>0</td>\n",
       "      <td>0</td>\n",
       "      <td>0</td>\n",
       "      <td>0</td>\n",
       "    </tr>\n",
       "    <tr>\n",
       "      <th>7</th>\n",
       "      <td>3</td>\n",
       "      <td>3</td>\n",
       "      <td>0</td>\n",
       "      <td>0</td>\n",
       "      <td>5</td>\n",
       "      <td>0</td>\n",
       "      <td>0</td>\n",
       "      <td>0</td>\n",
       "      <td>0</td>\n",
       "      <td>0</td>\n",
       "      <td>0</td>\n",
       "    </tr>\n",
       "    <tr>\n",
       "      <th>8</th>\n",
       "      <td>0</td>\n",
       "      <td>0</td>\n",
       "      <td>2</td>\n",
       "      <td>0</td>\n",
       "      <td>0</td>\n",
       "      <td>0</td>\n",
       "      <td>0</td>\n",
       "      <td>0</td>\n",
       "      <td>0</td>\n",
       "      <td>0</td>\n",
       "      <td>0</td>\n",
       "    </tr>\n",
       "    <tr>\n",
       "      <th>9</th>\n",
       "      <td>0</td>\n",
       "      <td>0</td>\n",
       "      <td>0</td>\n",
       "      <td>0</td>\n",
       "      <td>0</td>\n",
       "      <td>1</td>\n",
       "      <td>0</td>\n",
       "      <td>0</td>\n",
       "      <td>0</td>\n",
       "      <td>1</td>\n",
       "      <td>0</td>\n",
       "    </tr>\n",
       "    <tr>\n",
       "      <th>10</th>\n",
       "      <td>0</td>\n",
       "      <td>0</td>\n",
       "      <td>0</td>\n",
       "      <td>0</td>\n",
       "      <td>0</td>\n",
       "      <td>0</td>\n",
       "      <td>0</td>\n",
       "      <td>0</td>\n",
       "      <td>0</td>\n",
       "      <td>0</td>\n",
       "      <td>0</td>\n",
       "    </tr>\n",
       "    <tr>\n",
       "      <th>11</th>\n",
       "      <td>0</td>\n",
       "      <td>0</td>\n",
       "      <td>0</td>\n",
       "      <td>0</td>\n",
       "      <td>0</td>\n",
       "      <td>0</td>\n",
       "      <td>0</td>\n",
       "      <td>0</td>\n",
       "      <td>0</td>\n",
       "      <td>0</td>\n",
       "      <td>0</td>\n",
       "    </tr>\n",
       "    <tr>\n",
       "      <th>12</th>\n",
       "      <td>0</td>\n",
       "      <td>0</td>\n",
       "      <td>0</td>\n",
       "      <td>0</td>\n",
       "      <td>0</td>\n",
       "      <td>0</td>\n",
       "      <td>0</td>\n",
       "      <td>0</td>\n",
       "      <td>0</td>\n",
       "      <td>0</td>\n",
       "      <td>0</td>\n",
       "    </tr>\n",
       "    <tr>\n",
       "      <th rowspan=\"7\" valign=\"top\">2021</th>\n",
       "      <th>1</th>\n",
       "      <td>2</td>\n",
       "      <td>0</td>\n",
       "      <td>0</td>\n",
       "      <td>3</td>\n",
       "      <td>0</td>\n",
       "      <td>0</td>\n",
       "      <td>0</td>\n",
       "      <td>0</td>\n",
       "      <td>0</td>\n",
       "      <td>0</td>\n",
       "      <td>0</td>\n",
       "    </tr>\n",
       "    <tr>\n",
       "      <th>2</th>\n",
       "      <td>0</td>\n",
       "      <td>0</td>\n",
       "      <td>0</td>\n",
       "      <td>0</td>\n",
       "      <td>0</td>\n",
       "      <td>0</td>\n",
       "      <td>0</td>\n",
       "      <td>11</td>\n",
       "      <td>0</td>\n",
       "      <td>0</td>\n",
       "      <td>0</td>\n",
       "    </tr>\n",
       "    <tr>\n",
       "      <th>3</th>\n",
       "      <td>0</td>\n",
       "      <td>0</td>\n",
       "      <td>0</td>\n",
       "      <td>0</td>\n",
       "      <td>0</td>\n",
       "      <td>0</td>\n",
       "      <td>0</td>\n",
       "      <td>0</td>\n",
       "      <td>0</td>\n",
       "      <td>0</td>\n",
       "      <td>0</td>\n",
       "    </tr>\n",
       "    <tr>\n",
       "      <th>4</th>\n",
       "      <td>0</td>\n",
       "      <td>0</td>\n",
       "      <td>0</td>\n",
       "      <td>0</td>\n",
       "      <td>0</td>\n",
       "      <td>0</td>\n",
       "      <td>0</td>\n",
       "      <td>0</td>\n",
       "      <td>0</td>\n",
       "      <td>0</td>\n",
       "      <td>0</td>\n",
       "    </tr>\n",
       "    <tr>\n",
       "      <th>5</th>\n",
       "      <td>0</td>\n",
       "      <td>0</td>\n",
       "      <td>0</td>\n",
       "      <td>0</td>\n",
       "      <td>0</td>\n",
       "      <td>0</td>\n",
       "      <td>0</td>\n",
       "      <td>0</td>\n",
       "      <td>0</td>\n",
       "      <td>0</td>\n",
       "      <td>0</td>\n",
       "    </tr>\n",
       "    <tr>\n",
       "      <th>6</th>\n",
       "      <td>0</td>\n",
       "      <td>0</td>\n",
       "      <td>0</td>\n",
       "      <td>0</td>\n",
       "      <td>0</td>\n",
       "      <td>0</td>\n",
       "      <td>0</td>\n",
       "      <td>0</td>\n",
       "      <td>0</td>\n",
       "      <td>0</td>\n",
       "      <td>0</td>\n",
       "    </tr>\n",
       "    <tr>\n",
       "      <th>7</th>\n",
       "      <td>0</td>\n",
       "      <td>0</td>\n",
       "      <td>0</td>\n",
       "      <td>0</td>\n",
       "      <td>0</td>\n",
       "      <td>0</td>\n",
       "      <td>0</td>\n",
       "      <td>0</td>\n",
       "      <td>0</td>\n",
       "      <td>0</td>\n",
       "      <td>0</td>\n",
       "    </tr>\n",
       "  </tbody>\n",
       "</table>\n",
       "</div>"
      ],
      "text/plain": [
       "                           hydroxychloroquine  chloroquine  tocilizumab  \\\n",
       "publish_time publish_time                                                 \n",
       "2020         1                              1            0            0   \n",
       "             2                              0            0            0   \n",
       "             3                              0            0            0   \n",
       "             4                              0            0            0   \n",
       "             5                              0            0            0   \n",
       "             6                              0            0            0   \n",
       "             7                              3            3            0   \n",
       "             8                              0            0            2   \n",
       "             9                              0            0            0   \n",
       "             10                             0            0            0   \n",
       "             11                             0            0            0   \n",
       "             12                             0            0            0   \n",
       "2021         1                              2            0            0   \n",
       "             2                              0            0            0   \n",
       "             3                              0            0            0   \n",
       "             4                              0            0            0   \n",
       "             5                              0            0            0   \n",
       "             6                              0            0            0   \n",
       "             7                              0            0            0   \n",
       "\n",
       "                           remdesivir  azithromycin  lopinavir  ritonavir  \\\n",
       "publish_time publish_time                                                   \n",
       "2020         1                      0             0          0          0   \n",
       "             2                      0             0          0          0   \n",
       "             3                      0             0          0          0   \n",
       "             4                      0             0          0          0   \n",
       "             5                      0             0          0          0   \n",
       "             6                      9             0          0          0   \n",
       "             7                      0             5          0          0   \n",
       "             8                      0             0          0          0   \n",
       "             9                      0             0          1          0   \n",
       "             10                     0             0          0          0   \n",
       "             11                     0             0          0          0   \n",
       "             12                     0             0          0          0   \n",
       "2021         1                      3             0          0          0   \n",
       "             2                      0             0          0          0   \n",
       "             3                      0             0          0          0   \n",
       "             4                      0             0          0          0   \n",
       "             5                      0             0          0          0   \n",
       "             6                      0             0          0          0   \n",
       "             7                      0             0          0          0   \n",
       "\n",
       "                           dexamethasone  heparin  favipiravir  \\\n",
       "publish_time publish_time                                        \n",
       "2020         1                         0        0            0   \n",
       "             2                         0        0            0   \n",
       "             3                         0        0            0   \n",
       "             4                         0        1            0   \n",
       "             5                         0        0            0   \n",
       "             6                         0        0            0   \n",
       "             7                         0        0            0   \n",
       "             8                         0        0            0   \n",
       "             9                         0        0            1   \n",
       "             10                        0        0            0   \n",
       "             11                        0        0            0   \n",
       "             12                        0        0            0   \n",
       "2021         1                         0        0            0   \n",
       "             2                        11        0            0   \n",
       "             3                         0        0            0   \n",
       "             4                         0        0            0   \n",
       "             5                         0        0            0   \n",
       "             6                         0        0            0   \n",
       "             7                         0        0            0   \n",
       "\n",
       "                           methylprednisolone  \n",
       "publish_time publish_time                      \n",
       "2020         1                              0  \n",
       "             2                              0  \n",
       "             3                              0  \n",
       "             4                              0  \n",
       "             5                              0  \n",
       "             6                              0  \n",
       "             7                              0  \n",
       "             8                              0  \n",
       "             9                              0  \n",
       "             10                             0  \n",
       "             11                             0  \n",
       "             12                             0  \n",
       "2021         1                              0  \n",
       "             2                              0  \n",
       "             3                              0  \n",
       "             4                              0  \n",
       "             5                              0  \n",
       "             6                              0  \n",
       "             7                              0  "
      ]
     },
     "execution_count": 9,
     "metadata": {},
     "output_type": "execute_result"
    }
   ],
   "source": [
    "dfm = df[['publish_time']+medications].set_index('publish_time')\n",
    "dfm = dfm[(dfm.index>=\"2020-01-01\") & (dfm.index<=\"2021-07-31\")]\n",
    "dfmt = dfm.groupby([dfm.index.year,dfm.index.month]).sum()\n",
    "dfmt"
   ]
  },
  {
   "cell_type": "code",
   "execution_count": 10,
   "metadata": {},
   "outputs": [
    {
     "data": {
      "image/png": "[encoded data removed]",
      "text/plain": [
       "<Figure size 720x216 with 3 Axes>"
      ]
     },
     "metadata": {
      "needs_background": "light"
     },
     "output_type": "display_data"
    }
   ],
   "source": [
    "meds = ['hydroxychloroquine','tocilizumab','favipiravir']\n",
    "dfmt.loc[(2020,1)] = np.nan\n",
    "dfmt.loc[(2021,1)] = np.nan\n",
    "dfmt.fillna(method='pad',inplace=True)\n",
    "fig, ax = plt.subplots(1,len(meds),figsize=(10,3))\n",
    "for i,m in enumerate(meds):\n",
    "    dfmt[m].plot(ax=ax[i])\n",
    "    ax[i].set_title(m)\n",
    "plt.show()"
   ]
  },
  {
   "cell_type": "code",
   "execution_count": 11,
   "metadata": {},
   "outputs": [],
   "source": [
    "m = np.zeros((len(medications),len(diagnosis)))\n",
    "for a in df['abstract']:\n",
    "    x = str(a).lower()\n",
    "    for i,d in enumerate(diagnosis):\n",
    "        if ' '+d in x:\n",
    "            for j,me in enumerate(medications):\n",
    "                if ' '+me in x:\n",
    "                    m[j,i] += 1"
   ]
  },
  {
   "cell_type": "code",
   "execution_count": 12,
   "metadata": {},
   "outputs": [
    {
     "data": {
      "text/plain": [
       "array([[4., 3., 1., 1., 0., 0., 1.],\n",
       "       [1., 0., 1., 0., 0., 0., 0.],\n",
       "       [1., 0., 0., 0., 0., 0., 0.],\n",
       "       [2., 2., 1., 2., 0., 1., 0.],\n",
       "       [2., 1., 1., 0., 0., 0., 1.],\n",
       "       [1., 1., 1., 0., 0., 1., 0.],\n",
       "       [0., 0., 0., 0., 0., 0., 0.],\n",
       "       [0., 0., 0., 0., 0., 0., 0.],\n",
       "       [1., 0., 1., 1., 1., 0., 1.],\n",
       "       [1., 1., 1., 0., 0., 1., 0.],\n",
       "       [0., 0., 0., 0., 0., 0., 0.]])"
      ]
     },
     "execution_count": 12,
     "metadata": {},
     "output_type": "execute_result"
    }
   ],
   "source": [
    "m"
   ]
  },
  {
   "cell_type": "code",
   "execution_count": 13,
   "metadata": {},
   "outputs": [
    {
     "data": {
      "image/png": "[encoded data removed]",
      "text/plain": [
       "<Figure size 432x288 with 1 Axes>"
      ]
     },
     "metadata": {
      "needs_background": "light"
     },
     "output_type": "display_data"
    }
   ],
   "source": [
    "plt.imshow(m,interpolation='nearest',cmap='hot')\n",
    "ax = plt.gca()\n",
    "ax.set_yticks(range(len(medications))) \n",
    "ax.set_yticklabels(medications)\n",
    "ax.set_xticks(range(len(diagnosis)))\n",
    "ax.set_xticklabels(diagnosis,rotation=90)\n",
    "plt.show()"
   ]
  },
  {
   "cell_type": "code",
   "execution_count": 16,
   "metadata": {},
   "outputs": [],
   "source": [
    "import plotly.graph_objects as go"
   ]
  },
  {
   "cell_type": "code",
   "execution_count": 17,
   "metadata": {},
   "outputs": [
    {
     "data": {
      "application/vnd.plotly.v1+json": {
       "config": {
        "plotlyServerURL": "https://plot.ly"
       },
       "data": [
        {
         "link": {
          "color": [],
          "source": [],
          "target": [],
          "value": []
         },
         "node": {
          "label": [
           "hydroxychloroquine",
           "chloroquine",
           "tocilizumab",
           "remdesivir",
           "azithromycin",
           "lopinavir",
           "ritonavir",
           "dexamethasone",
           "heparin",
           "favipiravir",
           "methylprednisolone",
           "covid",
           "sars",
           "pneumonia",
           "infection",
           "diabetes",
           "coronavirus",
           "death"
          ],
          "line": {
           "color": "black",
           "width": 1
          },
          "pad": 40,
          "thickness": 40
         },
         "type": "sankey"
        }
       ],
       "layout": {
        "template": {
         "data": {
          "bar": [
           {
            "error_x": {
             "color": "#2a3f5f"
            },
            "error_y": {
             "color": "#2a3f5f"
            },
            "marker": {
             "line": {
              "color": "#E5ECF6",
              "width": 0.5
             },
             "pattern": {
              "fillmode": "overlay",
              "size": 10,
              "solidity": 0.2
             }
            },
            "type": "bar"
           }
          ],
          "barpolar": [
           {
            "marker": {
             "line": {
              "color": "#E5ECF6",
              "width": 0.5
             },
             "pattern": {
              "fillmode": "overlay",
              "size": 10,
              "solidity": 0.2
             }
            },
            "type": "barpolar"
           }
          ],
          "carpet": [
           {
            "aaxis": {
             "endlinecolor": "#2a3f5f",
             "gridcolor": "white",
             "linecolor": "white",
             "minorgridcolor": "white",
             "startlinecolor": "#2a3f5f"
            },
            "baxis": {
             "endlinecolor": "#2a3f5f",
             "gridcolor": "white",
             "linecolor": "white",
             "minorgridcolor": "white",
             "startlinecolor": "#2a3f5f"
            },
            "type": "carpet"
           }
          ],
          "choropleth": [
           {
            "colorbar": {
             "outlinewidth": 0,
             "ticks": ""
            },
            "type": "choropleth"
           }
          ],
          "contour": [
           {
            "colorbar": {
             "outlinewidth": 0,
             "ticks": ""
            },
            "colorscale": [
             [
              0,
              "#0d0887"
             ],
             [
              0.1111111111111111,
              "#46039f"
             ],
             [
              0.2222222222222222,
              "#7201a8"
             ],
             [
              0.3333333333333333,
              "#9c179e"
             ],
             [
              0.4444444444444444,
              "#bd3786"
             ],
             [
              0.5555555555555556,
              "#d8576b"
             ],
             [
              0.6666666666666666,
              "#ed7953"
             ],
             [
              0.7777777777777778,
              "#fb9f3a"
             ],
             [
              0.8888888888888888,
              "#fdca26"
             ],
             [
              1,
              "#f0f921"
             ]
            ],
            "type": "contour"
           }
          ],
          "contourcarpet": [
           {
            "colorbar": {
             "outlinewidth": 0,
             "ticks": ""
            },
            "type": "contourcarpet"
           }
          ],
          "heatmap": [
           {
            "colorbar": {
             "outlinewidth": 0,
             "ticks": ""
            },
            "colorscale": [
             [
              0,
              "#0d0887"
             ],
             [
              0.1111111111111111,
              "#46039f"
             ],
             [
              0.2222222222222222,
              "#7201a8"
             ],
             [
              0.3333333333333333,
              "#9c179e"
             ],
             [
              0.4444444444444444,
              "#bd3786"
             ],
             [
              0.5555555555555556,
              "#d8576b"
             ],
             [
              0.6666666666666666,
              "#ed7953"
             ],
             [
              0.7777777777777778,
              "#fb9f3a"
             ],
             [
              0.8888888888888888,
              "#fdca26"
             ],
             [
              1,
              "#f0f921"
             ]
            ],
            "type": "heatmap"
           }
          ],
          "heatmapgl": [
           {
            "colorbar": {
             "outlinewidth": 0,
             "ticks": ""
            },
            "colorscale": [
             [
              0,
              "#0d0887"
             ],
             [
              0.1111111111111111,
              "#46039f"
             ],
             [
              0.2222222222222222,
              "#7201a8"
             ],
             [
              0.3333333333333333,
              "#9c179e"
             ],
             [
              0.4444444444444444,
              "#bd3786"
             ],
             [
              0.5555555555555556,
              "#d8576b"
             ],
             [
              0.6666666666666666,
              "#ed7953"
             ],
             [
              0.7777777777777778,
              "#fb9f3a"
             ],
             [
              0.8888888888888888,
              "#fdca26"
             ],
             [
              1,
              "#f0f921"
             ]
            ],
            "type": "heatmapgl"
           }
          ],
          "histogram": [
           {
            "marker": {
             "pattern": {
              "fillmode": "overlay",
              "size": 10,
              "solidity": 0.2
             }
            },
            "type": "histogram"
           }
          ],
          "histogram2d": [
           {
            "colorbar": {
             "outlinewidth": 0,
             "ticks": ""
            },
            "colorscale": [
             [
              0,
              "#0d0887"
             ],
             [
              0.1111111111111111,
              "#46039f"
             ],
             [
              0.2222222222222222,
              "#7201a8"
             ],
             [
              0.3333333333333333,
              "#9c179e"
             ],
             [
              0.4444444444444444,
              "#bd3786"
             ],
             [
              0.5555555555555556,
              "#d8576b"
             ],
             [
              0.6666666666666666,
              "#ed7953"
             ],
             [
              0.7777777777777778,
              "#fb9f3a"
             ],
             [
              0.8888888888888888,
              "#fdca26"
             ],
             [
              1,
              "#f0f921"
             ]
            ],
            "type": "histogram2d"
           }
          ],
          "histogram2dcontour": [
           {
            "colorbar": {
             "outlinewidth": 0,
             "ticks": ""
            },
            "colorscale": [
             [
              0,
              "#0d0887"
             ],
             [
              0.1111111111111111,
              "#46039f"
             ],
             [
              0.2222222222222222,
              "#7201a8"
             ],
             [
              0.3333333333333333,
              "#9c179e"
             ],
             [
              0.4444444444444444,
              "#bd3786"
             ],
             [
              0.5555555555555556,
              "#d8576b"
             ],
             [
              0.6666666666666666,
              "#ed7953"
             ],
             [
              0.7777777777777778,
              "#fb9f3a"
             ],
             [
              0.8888888888888888,
              "#fdca26"
             ],
             [
              1,
              "#f0f921"
             ]
            ],
            "type": "histogram2dcontour"
           }
          ],
          "mesh3d": [
           {
            "colorbar": {
             "outlinewidth": 0,
             "ticks": ""
            },
            "type": "mesh3d"
           }
          ],
          "parcoords": [
           {
            "line": {
             "colorbar": {
              "outlinewidth": 0,
              "ticks": ""
             }
            },
            "type": "parcoords"
           }
          ],
          "pie": [
           {
            "automargin": true,
            "type": "pie"
           }
          ],
          "scatter": [
           {
            "fillpattern": {
             "fillmode": "overlay",
             "size": 10,
             "solidity": 0.2
            },
            "type": "scatter"
           }
          ],
          "scatter3d": [
           {
            "line": {
             "colorbar": {
              "outlinewidth": 0,
              "ticks": ""
             }
            },
            "marker": {
             "colorbar": {
              "outlinewidth": 0,
              "ticks": ""
             }
            },
            "type": "scatter3d"
           }
          ],
          "scattercarpet": [
           {
            "marker": {
             "colorbar": {
              "outlinewidth": 0,
              "ticks": ""
             }
            },
            "type": "scattercarpet"
           }
          ],
          "scattergeo": [
           {
            "marker": {
             "colorbar": {
              "outlinewidth": 0,
              "ticks": ""
             }
            },
            "type": "scattergeo"
           }
          ],
          "scattergl": [
           {
            "marker": {
             "colorbar": {
              "outlinewidth": 0,
              "ticks": ""
             }
            },
            "type": "scattergl"
           }
          ],
          "scattermapbox": [
           {
            "marker": {
             "colorbar": {
              "outlinewidth": 0,
              "ticks": ""
             }
            },
            "type": "scattermapbox"
           }
          ],
          "scatterpolar": [
           {
            "marker": {
             "colorbar": {
              "outlinewidth": 0,
              "ticks": ""
             }
            },
            "type": "scatterpolar"
           }
          ],
          "scatterpolargl": [
           {
            "marker": {
             "colorbar": {
              "outlinewidth": 0,
              "ticks": ""
             }
            },
            "type": "scatterpolargl"
           }
          ],
          "scatterternary": [
           {
            "marker": {
             "colorbar": {
              "outlinewidth": 0,
              "ticks": ""
             }
            },
            "type": "scatterternary"
           }
          ],
          "surface": [
           {
            "colorbar": {
             "outlinewidth": 0,
             "ticks": ""
            },
            "colorscale": [
             [
              0,
              "#0d0887"
             ],
             [
              0.1111111111111111,
              "#46039f"
             ],
             [
              0.2222222222222222,
              "#7201a8"
             ],
             [
              0.3333333333333333,
              "#9c179e"
             ],
             [
              0.4444444444444444,
              "#bd3786"
             ],
             [
              0.5555555555555556,
              "#d8576b"
             ],
             [
              0.6666666666666666,
              "#ed7953"
             ],
             [
              0.7777777777777778,
              "#fb9f3a"
             ],
             [
              0.8888888888888888,
              "#fdca26"
             ],
             [
              1,
              "#f0f921"
             ]
            ],
            "type": "surface"
           }
          ],
          "table": [
           {
            "cells": {
             "fill": {
              "color": "#EBF0F8"
             },
             "line": {
              "color": "white"
             }
            },
            "header": {
             "fill": {
              "color": "#C8D4E3"
             },
             "line": {
              "color": "white"
             }
            },
            "type": "table"
           }
          ]
         },
         "layout": {
          "annotationdefaults": {
           "arrowcolor": "#2a3f5f",
           "arrowhead": 0,
           "arrowwidth": 1
          },
          "autotypenumbers": "strict",
          "coloraxis": {
           "colorbar": {
            "outlinewidth": 0,
            "ticks": ""
           }
          },
          "colorscale": {
           "diverging": [
            [
             0,
             "#8e0152"
            ],
            [
             0.1,
             "#c51b7d"
            ],
            [
             0.2,
             "#de77ae"
            ],
            [
             0.3,
             "#f1b6da"
            ],
            [
             0.4,
             "#fde0ef"
            ],
            [
             0.5,
             "#f7f7f7"
            ],
            [
             0.6,
             "#e6f5d0"
            ],
            [
             0.7,
             "#b8e186"
            ],
            [
             0.8,
             "#7fbc41"
            ],
            [
             0.9,
             "#4d9221"
            ],
            [
             1,
             "#276419"
            ]
           ],
           "sequential": [
            [
             0,
             "#0d0887"
            ],
            [
             0.1111111111111111,
             "#46039f"
            ],
            [
             0.2222222222222222,
             "#7201a8"
            ],
            [
             0.3333333333333333,
             "#9c179e"
            ],
            [
             0.4444444444444444,
             "#bd3786"
            ],
            [
             0.5555555555555556,
             "#d8576b"
            ],
            [
             0.6666666666666666,
             "#ed7953"
            ],
            [
             0.7777777777777778,
             "#fb9f3a"
            ],
            [
             0.8888888888888888,
             "#fdca26"
            ],
            [
             1,
             "#f0f921"
            ]
           ],
           "sequentialminus": [
            [
             0,
             "#0d0887"
            ],
            [
             0.1111111111111111,
             "#46039f"
            ],
            [
             0.2222222222222222,
             "#7201a8"
            ],
            [
             0.3333333333333333,
             "#9c179e"
            ],
            [
             0.4444444444444444,
             "#bd3786"
            ],
            [
             0.5555555555555556,
             "#d8576b"
            ],
            [
             0.6666666666666666,
             "#ed7953"
            ],
            [
             0.7777777777777778,
             "#fb9f3a"
            ],
            [
             0.8888888888888888,
             "#fdca26"
            ],
            [
             1,
             "#f0f921"
            ]
           ]
          },
          "colorway": [
           "#636efa",
           "#EF553B",
           "#00cc96",
           "#ab63fa",
           "#FFA15A",
           "#19d3f3",
           "#FF6692",
           "#B6E880",
           "#FF97FF",
           "#FECB52"
          ],
          "font": {
           "color": "#2a3f5f"
          },
          "geo": {
           "bgcolor": "white",
           "lakecolor": "white",
           "landcolor": "#E5ECF6",
           "showlakes": true,
           "showland": true,
           "subunitcolor": "white"
          },
          "hoverlabel": {
           "align": "left"
          },
          "hovermode": "closest",
          "mapbox": {
           "style": "light"
          },
          "paper_bgcolor": "white",
          "plot_bgcolor": "#E5ECF6",
          "polar": {
           "angularaxis": {
            "gridcolor": "white",
            "linecolor": "white",
            "ticks": ""
           },
           "bgcolor": "#E5ECF6",
           "radialaxis": {
            "gridcolor": "white",
            "linecolor": "white",
            "ticks": ""
           }
          },
          "scene": {
           "xaxis": {
            "backgroundcolor": "#E5ECF6",
            "gridcolor": "white",
            "gridwidth": 2,
            "linecolor": "white",
            "showbackground": true,
            "ticks": "",
            "zerolinecolor": "white"
           },
           "yaxis": {
            "backgroundcolor": "#E5ECF6",
            "gridcolor": "white",
            "gridwidth": 2,
            "linecolor": "white",
            "showbackground": true,
            "ticks": "",
            "zerolinecolor": "white"
           },
           "zaxis": {
            "backgroundcolor": "#E5ECF6",
            "gridcolor": "white",
            "gridwidth": 2,
            "linecolor": "white",
            "showbackground": true,
            "ticks": "",
            "zerolinecolor": "white"
           }
          },
          "shapedefaults": {
           "line": {
            "color": "#2a3f5f"
           }
          },
          "ternary": {
           "aaxis": {
            "gridcolor": "white",
            "linecolor": "white",
            "ticks": ""
           },
           "baxis": {
            "gridcolor": "white",
            "linecolor": "white",
            "ticks": ""
           },
           "bgcolor": "#E5ECF6",
           "caxis": {
            "gridcolor": "white",
            "linecolor": "white",
            "ticks": ""
           }
          },
          "title": {
           "x": 0.05
          },
          "xaxis": {
           "automargin": true,
           "gridcolor": "white",
           "linecolor": "white",
           "ticks": "",
           "title": {
            "standoff": 15
           },
           "zerolinecolor": "white",
           "zerolinewidth": 2
          },
          "yaxis": {
           "automargin": true,
           "gridcolor": "white",
           "linecolor": "white",
           "ticks": "",
           "title": {
            "standoff": 15
           },
           "zerolinecolor": "white",
           "zerolinewidth": 2
          }
         }
        }
       }
      }
     },
     "metadata": {},
     "output_type": "display_data"
    }
   ],
   "source": [
    "\n",
    "\n",
    "def sankey(cat1, cat2, m, treshold=0, h1=[], h2=[]):\n",
    "    all_nodes = cat1 + cat2\n",
    "    source_indices = list(range(len(cat1)))\n",
    "    target_indices = list(range(len(cat1),len(cat1)+len(cat2)))\n",
    "\n",
    "    s, t, v, c = [], [], [], []\n",
    "    for i in range(len(cat1)):\n",
    "        for j in range(len(cat2)):\n",
    "            if m[i,j]>treshold:\n",
    "                s.append(i)\n",
    "                t.append(len(cat1)+j)\n",
    "                v.append(m[i,j])\n",
    "                c.append('pink' if i in h1 or j in h2 else 'lightgray')\n",
    "\n",
    "    fig = go.Figure(data=[go.Sankey(\n",
    "        # Define nodes\n",
    "        node = dict(\n",
    "        pad = 40,\n",
    "        thickness = 40,\n",
    "        line = dict(color = \"black\", width = 1.0),\n",
    "        label =  all_nodes),\n",
    "\n",
    "        # Add links\n",
    "        link = dict(\n",
    "        source =  s,\n",
    "        target =  t,\n",
    "        value =  v,\n",
    "        color = c\n",
    "    ))])\n",
    "    fig.show()\n",
    "\n",
    "sankey(medications,diagnosis,m,500,h2=[0])\n"
   ]
  }
 ],
 "metadata": {
  "kernelspec": {
   "display_name": "Python 3",
   "language": "python",
   "name": "python3"
  },
  "language_info": {
   "codemirror_mode": {
    "name": "ipython",
    "version": 3
   },
   "file_extension": ".py",
   "mimetype": "text/x-python",
   "name": "python",
   "nbconvert_exporter": "python",
   "pygments_lexer": "ipython3",
   "version": "3.10.6"
  },
  "orig_nbformat": 4
 },
 "nbformat": 4,
 "nbformat_minor": 2
}
